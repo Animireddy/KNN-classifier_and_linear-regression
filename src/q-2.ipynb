{
 "cells": [
  {
   "cell_type": "code",
   "execution_count": 12,
   "metadata": {},
   "outputs": [
    {
     "name": "stdout",
     "output_type": "stream",
     "text": [
      "-29.098305653722672\n"
     ]
    }
   ],
   "source": [
    "import math\n",
    "\n",
    "ip = 'CTTCATGTGAAAGCAGACGTAAGTCA'\n",
    "spc = 'EEEEEEEEEEEEEEEEEE5IIIIIII'\n",
    "probs = []\n",
    "\n",
    "k  = 0\n",
    "def func1(arg):\n",
    "    k1 = k+1\n",
    "    switcher = { \n",
    "        'A': 0, \n",
    "        'G': 2, \n",
    "        'T': 3, \n",
    "        'C': 1, \n",
    "    }\n",
    "    return switcher.get(arg, \"nothing\")\n",
    "\n",
    "cpb = [[0.25, 0.25, 0.25, 0.25], [0.05, 0, 0.95, 0], [0.4, 0.1, 0.1, 0.4]]\n",
    "\n",
    "def func2(arg):\n",
    "    k1 = k+1\n",
    "    switcher = { \n",
    "        'E': 0, \n",
    "        '5': 1, \n",
    "        'I': 2,  \n",
    "    }\n",
    "    return switcher.get(arg, \"nothing\")\n",
    "    \n",
    "state_change_prob = [[0.9, 0.1, 0], [0, 0, 1.0], [0, 0, 0.9]]\n",
    "\n",
    "probability = 1.0 * cpb[func2(spc[0])][func1(ip[0])]\n",
    "\n",
    "# print(probability)\n",
    "\n",
    "probs.append(math.log(probability))\n",
    "\n",
    "l1 = 0\n",
    "for i in range(1, len(ip)):\n",
    "    l1 = l1 + 1\n",
    "    probability *= (state_change_prob[func2(spc[i-1])][func2(spc[i])] * cpb[func2(spc[i])][func1(ip[i])])\n",
    "    probs.append(math.log(probability))\n",
    "    l1 = l1 + 1\n",
    "    if spc[i]=='5':\n",
    "        print(math.log(probability))\n",
    "    \n",
    "probability *= 0.1\n",
    "\n",
    "lgp = math.log(probability)\n",
    "\n",
    "probs.append(lgp)\n",
    "\n",
    "# print(log_probability)"
   ]
  },
  {
   "cell_type": "code",
   "execution_count": null,
   "metadata": {},
   "outputs": [],
   "source": []
  }
 ],
 "metadata": {
  "kernelspec": {
   "display_name": "Python 3",
   "language": "python",
   "name": "python3"
  },
  "language_info": {
   "codemirror_mode": {
    "name": "ipython",
    "version": 3
   },
   "file_extension": ".py",
   "mimetype": "text/x-python",
   "name": "python",
   "nbconvert_exporter": "python",
   "pygments_lexer": "ipython3",
   "version": "3.5.2"
  }
 },
 "nbformat": 4,
 "nbformat_minor": 2
}
